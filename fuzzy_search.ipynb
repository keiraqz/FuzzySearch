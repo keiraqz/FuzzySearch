{
 "cells": [
  {
   "cell_type": "markdown",
   "metadata": {
    "slideshow": {
     "slide_type": "notes"
    }
   },
   "source": [
    "# 30 MIN AND 30 MIN ONLY"
   ]
  },
  {
   "cell_type": "markdown",
   "metadata": {
    "slideshow": {
     "slide_type": "slide"
    }
   },
   "source": [
    "# Capital One Tech Talk @ Columbia"
   ]
  },
  {
   "cell_type": "markdown",
   "metadata": {
    "slideshow": {
     "slide_type": "slide"
    }
   },
   "source": [
    "**Whoami**"
   ]
  },
  {
   "cell_type": "code",
   "execution_count": 1,
   "metadata": {
    "collapsed": false,
    "slideshow": {
     "slide_type": "fragment"
    }
   },
   "outputs": [],
   "source": [
    "name=\"Jiaqi Liu\"\n",
    "job=\"Data Scientist, Capital One\"\n",
    "email=\"jiaqi.liu@capitalone.com\"\n",
    "\n",
    "name=\"Chris Stoafer\"\n",
    "job=\"Data Scientist, Capital One\"\n",
    "email=\"chris.stoafer@capitalone.com\"\n",
    "\n",
    "name=\"Keira Zhou\"\n",
    "job=\"Data Engineer, Capital One\"\n",
    "email=\"keira.zhou@capitalone.com\""
   ]
  },
  {
   "cell_type": "markdown",
   "metadata": {
    "slideshow": {
     "slide_type": "notes"
    }
   },
   "source": [
    "Keira: \n",
    "- we are going to talk about fuzzy search.\n",
    "- It's Approximate string matching\n",
    "- Why? Sometime we don't really know what we are looking for"
   ]
  },
  {
   "cell_type": "markdown",
   "metadata": {
    "slideshow": {
     "slide_type": "slide"
    }
   },
   "source": [
    "** Fuzzy Search **    \n",
    "Approximate string matching\n",
    "\n",
    "- Why\n",
    "    - Abbreviation: what does \"LGTM\" mean?\n",
    "    - Misspellings: \"I sware\" or \"I swear\"?\n",
    "    - Lack of whitespaces: BEDBATHANDBEYOND\n",
    "    - Cut-off words\n",
    "    - etc."
   ]
  },
  {
   "cell_type": "markdown",
   "metadata": {
    "slideshow": {
     "slide_type": "notes"
    }
   },
   "source": [
    "Keira:\n",
    "- Both US and USA point to the same entity: United States\n",
    "- Fuzzy search usually based on some sort of string distance"
   ]
  },
  {
   "cell_type": "markdown",
   "metadata": {
    "slideshow": {
     "slide_type": "slide"
    }
   },
   "source": [
    "- Applications\n",
    "    - Entity resolution\n",
    "        - \"US\" and \"USA\"\n",
    "    - Search Engines\n",
    "    - Auto correct\n",
    "- Search based on String distance\n",
    "    - Quantify qualitative data for analytical purpose"
   ]
  },
  {
   "cell_type": "markdown",
   "metadata": {
    "slideshow": {
     "slide_type": "slide"
    }
   },
   "source": [
    "**Background ETS**"
   ]
  },
  {
   "cell_type": "markdown",
   "metadata": {
    "slideshow": {
     "slide_type": "notes"
    }
   },
   "source": [
    "### Jiaqi: ETS"
   ]
  },
  {
   "cell_type": "markdown",
   "metadata": {
    "slideshow": {
     "slide_type": "slide"
    }
   },
   "source": [
    "**Soundex**\n",
    "\n",
    "- phonetic algorithm\n",
    "- index by sound as pronounced in English\n",
    "- assigns a soundex coding \n",
    "- ideal for spelling inconsistencies"
   ]
  },
  {
   "cell_type": "markdown",
   "metadata": {
    "slideshow": {
     "slide_type": "notes"
    }
   },
   "source": [
    "Jiaqi: Soundex"
   ]
  },
  {
   "cell_type": "markdown",
   "metadata": {
    "slideshow": {
     "slide_type": "slide"
    }
   },
   "source": [
    "**American Soundex Coding**\n",
    "\n",
    "[http://www.archives.gov/research/census/soundex.html](http://www.archives.gov/research/census/soundex.html)\n",
    "\n",
    "every soundex code is a letter and three numbers\n",
    "\n",
    "| Number | Letter |\n",
    "|---------|----------|\n",
    "|1|B,F,P,V|\n",
    "|2|C,G,J,K,Q,S,X,Z|\n",
    "|3|D,T|\n",
    "|4|L|\n",
    "|5|M,N|\n",
    "|6|R|\n",
    "\n",
    "Ignore A,E,I,O,U,H,W,Y"
   ]
  },
  {
   "cell_type": "code",
   "execution_count": 37,
   "metadata": {
    "collapsed": false,
    "slideshow": {
     "slide_type": "slide"
    }
   },
   "outputs": [
    {
     "name": "stdout",
     "output_type": "stream",
     "text": [
      "W252\n",
      "W252\n"
     ]
    }
   ],
   "source": [
    "import jellyfish as j\n",
    "\n",
    "a=j.soundex('WASHINGTON')\n",
    "print(a)\n",
    "b=j.soundex('WUSHINGTON')\n",
    "print(b)"
   ]
  },
  {
   "cell_type": "code",
   "execution_count": 38,
   "metadata": {
    "collapsed": false,
    "slideshow": {
     "slide_type": "fragment"
    }
   },
   "outputs": [
    {
     "name": "stdout",
     "output_type": "stream",
     "text": [
      "R253\n",
      "R255\n"
     ]
    }
   ],
   "source": [
    "a=j.soundex('RCHMND')\n",
    "print(a)\n",
    "b=j.soundex('RICHMOND')\n",
    "print(b)"
   ]
  },
  {
   "cell_type": "code",
   "execution_count": 39,
   "metadata": {
    "collapsed": false,
    "slideshow": {
     "slide_type": "slide"
    }
   },
   "outputs": [
    {
     "name": "stdout",
     "output_type": "stream",
     "text": [
      "S120\n",
      "S361\n"
     ]
    }
   ],
   "source": [
    "a=j.soundex('SBUX#123')\n",
    "print(a)\n",
    "b=j.soundex('Starbucks')\n",
    "print(b)"
   ]
  },
  {
   "cell_type": "code",
   "execution_count": 40,
   "metadata": {
    "collapsed": false,
    "slideshow": {
     "slide_type": "fragment"
    }
   },
   "outputs": [
    {
     "name": "stdout",
     "output_type": "stream",
     "text": [
      "S120\n",
      "S120\n"
     ]
    }
   ],
   "source": [
    "a=j.soundex('SBUX#123')\n",
    "print(a)\n",
    "a2=j.soundex('SBUX')\n",
    "print(a2)"
   ]
  },
  {
   "cell_type": "markdown",
   "metadata": {
    "slideshow": {
     "slide_type": "slide"
    }
   },
   "source": [
    "**Soundex**\n",
    "- Soundex is pretty easy to implement\n",
    "- Computationally fast\n",
    "- only works on ASCII characters (no foreign languages)\n",
    "- How do you calculate distance"
   ]
  },
  {
   "cell_type": "markdown",
   "metadata": {
    "slideshow": {
     "slide_type": "notes"
    }
   },
   "source": [
    "### Keira: Levenshtein distance\n",
    "- alternatively, by typing distance"
   ]
  },
  {
   "cell_type": "markdown",
   "metadata": {
    "slideshow": {
     "slide_type": "slide"
    }
   },
   "source": [
    "**Levenshtein distance**\n",
    "- also call edit distance\n",
    "- accounts for how many characters you have to change to have the same string\n",
    "- computationally fast (can handle real time processing)\n",
    "- pairwise comparison"
   ]
  },
  {
   "cell_type": "code",
   "execution_count": 1,
   "metadata": {
    "collapsed": false,
    "slideshow": {
     "slide_type": "slide"
    }
   },
   "outputs": [
    {
     "data": {
      "text/plain": [
       "2"
      ]
     },
     "execution_count": 1,
     "metadata": {},
     "output_type": "execute_result"
    }
   ],
   "source": [
    "import Levenshtein as l\n",
    "\n",
    "l.distance('SMYTHE', 'SMITH')"
   ]
  },
  {
   "cell_type": "code",
   "execution_count": 2,
   "metadata": {
    "collapsed": false,
    "slideshow": {
     "slide_type": "-"
    }
   },
   "outputs": [
    {
     "data": {
      "text/plain": [
       "8"
      ]
     },
     "execution_count": 2,
     "metadata": {},
     "output_type": "execute_result"
    }
   ],
   "source": [
    "l.distance('SBUX', 'Starbucks')"
   ]
  },
  {
   "cell_type": "markdown",
   "metadata": {
    "slideshow": {
     "slide_type": "slide"
    }
   },
   "source": [
    "Pitfall: Comparing Addresses"
   ]
  },
  {
   "cell_type": "code",
   "execution_count": 3,
   "metadata": {
    "collapsed": false,
    "slideshow": {
     "slide_type": "-"
    }
   },
   "outputs": [
    {
     "data": {
      "text/plain": [
       "3"
      ]
     },
     "execution_count": 3,
     "metadata": {},
     "output_type": "execute_result"
    }
   ],
   "source": [
    "str99 = '99 Broadway'\n",
    "str100 = '100 Broadway'\n",
    "str999 = '999 Broadway'\n",
    "\n",
    "l.distance(str99, str100)"
   ]
  },
  {
   "cell_type": "code",
   "execution_count": 45,
   "metadata": {
    "collapsed": false,
    "slideshow": {
     "slide_type": "fragment"
    }
   },
   "outputs": [
    {
     "data": {
      "text/plain": [
       "1"
      ]
     },
     "execution_count": 45,
     "metadata": {},
     "output_type": "execute_result"
    }
   ],
   "source": [
    "l.distance(str99, str999)"
   ]
  },
  {
   "cell_type": "code",
   "execution_count": 46,
   "metadata": {
    "collapsed": false,
    "slideshow": {
     "slide_type": "fragment"
    }
   },
   "outputs": [
    {
     "data": {
      "text/plain": [
       "3"
      ]
     },
     "execution_count": 46,
     "metadata": {},
     "output_type": "execute_result"
    }
   ],
   "source": [
    "l.distance(str999, str100)"
   ]
  },
  {
   "cell_type": "markdown",
   "metadata": {
    "slideshow": {
     "slide_type": "slide"
    }
   },
   "source": [
    "Longer Strings"
   ]
  },
  {
   "cell_type": "code",
   "execution_count": 47,
   "metadata": {
    "collapsed": false
   },
   "outputs": [
    {
     "data": {
      "text/plain": [
       "4"
      ]
     },
     "execution_count": 47,
     "metadata": {},
     "output_type": "execute_result"
    }
   ],
   "source": [
    "str1='Mike\\'s New York Deli and co'\n",
    "str2='Sam\\'s New York Deli and co'\n",
    "l.distance(str1,str2)"
   ]
  },
  {
   "cell_type": "code",
   "execution_count": 48,
   "metadata": {
    "collapsed": false,
    "slideshow": {
     "slide_type": "fragment"
    }
   },
   "outputs": [
    {
     "data": {
      "text/plain": [
       "4"
      ]
     },
     "execution_count": 48,
     "metadata": {},
     "output_type": "execute_result"
    }
   ],
   "source": [
    "import Levenshtein as l\n",
    "str1='Mike\\'s Deli'\n",
    "str2='Sam\\'s Deli'\n",
    "l.distance(str1,str2)"
   ]
  },
  {
   "cell_type": "markdown",
   "metadata": {
    "slideshow": {
     "slide_type": "slide"
    }
   },
   "source": [
    "**Levenshtein**\n",
    "- counting raw edits penalizes long strings: use a ratio of edits to length\n",
    "- weighing numbers differently from letters"
   ]
  },
  {
   "cell_type": "markdown",
   "metadata": {
    "collapsed": true,
    "slideshow": {
     "slide_type": "slide"
    }
   },
   "source": [
    "**NLTK**\n",
    "- Word2Vec: uses cosine distance\n",
    "    - cosine distance between two vectors is nice but like have to find a way to quantify"
   ]
  },
  {
   "cell_type": "markdown",
   "metadata": {
    "slideshow": {
     "slide_type": "notes"
    }
   },
   "source": [
    "### Jiaqi: Add more to it"
   ]
  },
  {
   "cell_type": "code",
   "execution_count": null,
   "metadata": {
    "collapsed": true
   },
   "outputs": [],
   "source": []
  }
 ],
 "metadata": {
  "celltoolbar": "Slideshow",
  "kernelspec": {
   "display_name": "Python 2",
   "language": "python",
   "name": "python2"
  },
  "language_info": {
   "codemirror_mode": {
    "name": "ipython",
    "version": 2
   },
   "file_extension": ".py",
   "mimetype": "text/x-python",
   "name": "python",
   "nbconvert_exporter": "python",
   "pygments_lexer": "ipython2",
   "version": "2.7.11"
  }
 },
 "nbformat": 4,
 "nbformat_minor": 0
}
